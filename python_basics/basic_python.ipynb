{
 "cells": [
  {
   "cell_type": "markdown",
   "id": "54492329-e68a-4e1a-a69d-e32aa8d48440",
   "metadata": {},
   "source": [
    "# Operadores basicos"
   ]
  },
  {
   "cell_type": "code",
   "execution_count": 2,
   "id": "05d249b0-e3f0-4bcd-bd45-97b82c5244ea",
   "metadata": {},
   "outputs": [
    {
     "data": {
      "text/plain": [
       "9.1415926"
      ]
     },
     "execution_count": 2,
     "metadata": {},
     "output_type": "execute_result"
    }
   ],
   "source": [
    "# suma\n",
    "5 + 3.1415926 + 1"
   ]
  },
  {
   "cell_type": "code",
   "execution_count": 3,
   "id": "03282b67-7e57-4903-8bcf-78487b012ed2",
   "metadata": {},
   "outputs": [
    {
     "data": {
      "text/plain": [
       "72"
      ]
     },
     "execution_count": 3,
     "metadata": {},
     "output_type": "execute_result"
    }
   ],
   "source": [
    "# Resta\n",
    "2 * 9 * 4"
   ]
  },
  {
   "cell_type": "code",
   "execution_count": 4,
   "id": "180dc990-a0b8-4c91-a4a2-9d04e6346beb",
   "metadata": {},
   "outputs": [
    {
     "data": {
      "text/plain": [
       "0.375"
      ]
     },
     "execution_count": 4,
     "metadata": {},
     "output_type": "execute_result"
    }
   ],
   "source": [
    "# division\n",
    "3 / 8"
   ]
  },
  {
   "cell_type": "code",
   "execution_count": 5,
   "id": "c9c46255-d45c-4413-98c7-486ebbd96472",
   "metadata": {
    "editable": true,
    "slideshow": {
     "slide_type": ""
    },
    "tags": []
   },
   "outputs": [
    {
     "name": "stdout",
     "output_type": "stream",
     "text": [
      "division normal\n",
      "5.333333333333333\n",
      "\n",
      "division mostrando el residual\n",
      "1\n",
      "\n",
      "divison aproxiamda al entero mas pequenio\n",
      "5\n"
     ]
    }
   ],
   "source": [
    "# modulo y floor division\n",
    "print(f\"division normal\\n{16 / 3}\\n\")\n",
    "print(f\"division mostrando el residual\\n{16 % 3}\\n\")\n",
    "print(f\"divison aproxiamda al entero mas pequenio\\n{16//3 }\")"
   ]
  },
  {
   "cell_type": "code",
   "execution_count": 6,
   "id": "e5d8a468-d62d-44f4-be9b-09c6a31f48c5",
   "metadata": {},
   "outputs": [
    {
     "data": {
      "text/plain": [
       "25"
      ]
     },
     "execution_count": 6,
     "metadata": {},
     "output_type": "execute_result"
    }
   ],
   "source": [
    "# Elevar numero a potencia\n",
    "5 ** 2"
   ]
  },
  {
   "cell_type": "code",
   "execution_count": 7,
   "id": "e20a2889-c28f-410a-8f70-78b94633382f",
   "metadata": {},
   "outputs": [
    {
     "data": {
      "text/plain": [
       "216"
      ]
     },
     "execution_count": 7,
     "metadata": {},
     "output_type": "execute_result"
    }
   ],
   "source": [
    "6 ** 3"
   ]
  },
  {
   "cell_type": "markdown",
   "id": "93efa635-af27-4d4a-8d16-bba647dba438",
   "metadata": {},
   "source": [
    "## Precedencia de los operadores"
   ]
  },
  {
   "cell_type": "code",
   "execution_count": 9,
   "id": "ade6b71a-4917-4aad-b834-394013d150d3",
   "metadata": {
    "scrolled": true
   },
   "outputs": [
    {
     "data": {
      "text/plain": [
       "4.0"
      ]
     },
     "execution_count": 9,
     "metadata": {},
     "output_type": "execute_result"
    }
   ],
   "source": [
    "5 * 2 / 2.5"
   ]
  },
  {
   "cell_type": "markdown",
   "id": "b0a7a70c-d326-4570-a53d-9a3a3cc6a0eb",
   "metadata": {},
   "source": [
    "En esta expresion vemos que multiplicamos 5 * 2 = 10\n",
    "y despues dividimos entre 2.5, que nos da 4"
   ]
  },
  {
   "cell_type": "markdown",
   "id": "d8ff848b-1f85-42d4-89dd-4d627c7ca046",
   "metadata": {},
   "source": [
    "Generalmente usamos la expresion mnenonica: `PEMDAS` o la mas antigua `Please excuse my dear aunt sally` que basicamante enumera el orden de precedencia de las operaciones:\n",
    "\n",
    "1. Parentheses\n",
    "2. Exponents\n",
    "3. Multiplication (from left to right)\n",
    "4. Division (from left to right)\n",
    "5. Addition (from left to right)\n",
    "\n",
    "6. Substraction (from left to right)"
   ]
  },
  {
   "cell_type": "code",
   "execution_count": 12,
   "id": "4164ce4e-d452-4416-b9b7-8836cf7d00da",
   "metadata": {},
   "outputs": [
    {
     "data": {
      "text/plain": [
       "4.0"
      ]
     },
     "execution_count": 12,
     "metadata": {},
     "output_type": "execute_result"
    }
   ],
   "source": [
    "5 * (2 / 2.5)"
   ]
  },
  {
   "cell_type": "code",
   "execution_count": 13,
   "id": "9c841dfb-4839-4339-afc6-fbd7d142c764",
   "metadata": {},
   "outputs": [
    {
     "data": {
      "text/plain": [
       "0.8"
      ]
     },
     "execution_count": 13,
     "metadata": {},
     "output_type": "execute_result"
    }
   ],
   "source": [
    "2 / 2.5"
   ]
  },
  {
   "cell_type": "code",
   "execution_count": 14,
   "id": "c9219a82-d69c-403a-a162-186e7dd40e04",
   "metadata": {},
   "outputs": [
    {
     "data": {
      "text/plain": [
       "4.0"
      ]
     },
     "execution_count": 14,
     "metadata": {},
     "output_type": "execute_result"
    }
   ],
   "source": [
    ".8 * 5"
   ]
  },
  {
   "cell_type": "code",
   "execution_count": 15,
   "id": "844ab913-db5e-414e-a8f2-815c2169381d",
   "metadata": {},
   "outputs": [
    {
     "data": {
      "text/plain": [
       "0.75"
      ]
     },
     "execution_count": 15,
     "metadata": {},
     "output_type": "execute_result"
    }
   ],
   "source": [
    "(5 - 2) / 4"
   ]
  },
  {
   "cell_type": "code",
   "execution_count": 16,
   "id": "3b3a0d28-033e-47be-a378-5495a60f4498",
   "metadata": {},
   "outputs": [
    {
     "data": {
      "text/plain": [
       "0.75"
      ]
     },
     "execution_count": 16,
     "metadata": {},
     "output_type": "execute_result"
    }
   ],
   "source": [
    "3 / 4"
   ]
  },
  {
   "cell_type": "code",
   "execution_count": null,
   "id": "87af3f55-b422-4eaa-8adf-0e46133d3685",
   "metadata": {},
   "outputs": [],
   "source": []
  },
  {
   "cell_type": "markdown",
   "id": "af3b6fb0-8ce6-4cd4-912d-ca8d6cc83aea",
   "metadata": {},
   "source": [
    "## Tipos de datos"
   ]
  },
  {
   "cell_type": "markdown",
   "id": "f075410c-6cdc-4eca-a8b0-6fc2a05c7cb4",
   "metadata": {},
   "source": [
    "### 1. Strings"
   ]
  },
  {
   "cell_type": "code",
   "execution_count": 19,
   "id": "a5a4c860-79d6-4354-8432-fa96f3e722e1",
   "metadata": {},
   "outputs": [],
   "source": [
    "texto1 = \"Este es un ejemplo de texto\""
   ]
  },
  {
   "cell_type": "code",
   "execution_count": 20,
   "id": "3524966d-adf0-4d25-af99-f1fe703c6542",
   "metadata": {},
   "outputs": [],
   "source": [
    "text2 = \"This is a second sample 'Of a text'\""
   ]
  },
  {
   "cell_type": "code",
   "execution_count": 21,
   "id": "c95e03cc-f61b-4d07-98c5-e0c925da11c3",
   "metadata": {},
   "outputs": [
    {
     "name": "stdout",
     "output_type": "stream",
     "text": [
      "Este es un ejemplo de texto\n",
      "This is a second sample 'Of a text'\n"
     ]
    }
   ],
   "source": [
    "print(f\"{texto1}\\n{text2}\")"
   ]
  },
  {
   "cell_type": "code",
   "execution_count": 22,
   "id": "f5666315-56ad-407d-8d23-5c2424a31371",
   "metadata": {},
   "outputs": [
    {
     "data": {
      "text/plain": [
       "\"Este es un ejemplo de textoThis is a second sample 'Of a text'\""
      ]
     },
     "execution_count": 22,
     "metadata": {},
     "output_type": "execute_result"
    }
   ],
   "source": [
    "# You can concatenate str's\n",
    "text3 = texto1 + text2\n",
    "text3"
   ]
  },
  {
   "cell_type": "code",
   "execution_count": 23,
   "id": "5588fb9f-8dad-45be-b56a-6fc048adfa6b",
   "metadata": {},
   "outputs": [
    {
     "data": {
      "text/plain": [
       "\"Este es un ejemplo de texto This is a second sample 'Of a text'\""
      ]
     },
     "execution_count": 23,
     "metadata": {},
     "output_type": "execute_result"
    }
   ],
   "source": [
    "# You can add more str to a concatenation:\n",
    "text3 = texto1 + \" \" + text2\n",
    "text3"
   ]
  },
  {
   "cell_type": "code",
   "execution_count": 24,
   "id": "0c1e8e90-f75b-4f4f-a57c-7396ca6bc0f5",
   "metadata": {},
   "outputs": [
    {
     "data": {
      "text/plain": [
       "\"Este es un ejemplo de texto adding even more strs This is a second sample 'Of a text'\""
      ]
     },
     "execution_count": 24,
     "metadata": {},
     "output_type": "execute_result"
    }
   ],
   "source": [
    "text3 = texto1 + \" adding even more strs\"+ \" \" + text2\n",
    "text3"
   ]
  },
  {
   "cell_type": "code",
   "execution_count": 25,
   "id": "3e9c70e6-7ec0-4279-985b-9535aba181d8",
   "metadata": {},
   "outputs": [
    {
     "name": "stdout",
     "output_type": "stream",
     "text": [
      "line1\n",
      "line2\n",
      "line3\n",
      "\n"
     ]
    }
   ],
   "source": [
    "# Caracteres de escape\n",
    "text4 = 'line1\\nline2\\nline3\\n'\n",
    "print(text4)"
   ]
  },
  {
   "cell_type": "code",
   "execution_count": 26,
   "id": "db9c65ff-1580-48c8-a017-ba2644719b6e",
   "metadata": {},
   "outputs": [
    {
     "data": {
      "text/plain": [
       "'line1\\nline2\\nline3\\n'"
      ]
     },
     "execution_count": 26,
     "metadata": {},
     "output_type": "execute_result"
    }
   ],
   "source": [
    "# notice the difference when you call in jupyter\n",
    "text4"
   ]
  },
  {
   "cell_type": "markdown",
   "id": "ce57bc7a-083c-4b0f-91ca-1178ee679340",
   "metadata": {},
   "source": [
    "### 2. Numeros"
   ]
  },
  {
   "cell_type": "code",
   "execution_count": 28,
   "id": "1b8a2195-08b8-4493-a89b-6a6980e1faf1",
   "metadata": {},
   "outputs": [
    {
     "data": {
      "text/plain": [
       "int"
      ]
     },
     "execution_count": 28,
     "metadata": {},
     "output_type": "execute_result"
    }
   ],
   "source": [
    "# tipo entero\n",
    "a = 5\n",
    "type(a)"
   ]
  },
  {
   "cell_type": "code",
   "execution_count": 29,
   "id": "000af3c2-cb54-4ac4-aabe-0d90723cac1e",
   "metadata": {},
   "outputs": [
    {
     "data": {
      "text/plain": [
       "float"
      ]
     },
     "execution_count": 29,
     "metadata": {},
     "output_type": "execute_result"
    }
   ],
   "source": [
    "# Tipo decimal\n",
    "pi = 3.1415926\n",
    "type(pi)"
   ]
  },
  {
   "cell_type": "code",
   "execution_count": 30,
   "id": "10c29eeb-6628-4d8e-9dca-7e5a1dcfe638",
   "metadata": {},
   "outputs": [
    {
     "data": {
      "text/plain": [
       "complex"
      ]
     },
     "execution_count": 30,
     "metadata": {},
     "output_type": "execute_result"
    }
   ],
   "source": [
    "# tipo complejo\n",
    "c = 5 + 2j\n",
    "type(c)"
   ]
  },
  {
   "cell_type": "markdown",
   "id": "19e1c815-42e4-470f-9f8a-b2f6528e76bb",
   "metadata": {},
   "source": [
    "### 3. Booleans"
   ]
  },
  {
   "cell_type": "code",
   "execution_count": 32,
   "id": "e4dacdc5-6b35-4162-b2f5-db721871b9aa",
   "metadata": {},
   "outputs": [
    {
     "data": {
      "text/plain": [
       "True"
      ]
     },
     "execution_count": 32,
     "metadata": {},
     "output_type": "execute_result"
    }
   ],
   "source": [
    "eval = True\n",
    "eval"
   ]
  },
  {
   "cell_type": "code",
   "execution_count": 33,
   "id": "457ad549-aa90-4e57-8d7c-374b2cb32ece",
   "metadata": {},
   "outputs": [
    {
     "name": "stdout",
     "output_type": "stream",
     "text": [
      "True\n"
     ]
    }
   ],
   "source": [
    "print(eval)"
   ]
  },
  {
   "cell_type": "code",
   "execution_count": 34,
   "id": "fbecbeb7-1039-4b6b-beb2-45bada3a264e",
   "metadata": {},
   "outputs": [
    {
     "data": {
      "text/plain": [
       "bool"
      ]
     },
     "execution_count": 34,
     "metadata": {},
     "output_type": "execute_result"
    }
   ],
   "source": [
    "type(eval)"
   ]
  },
  {
   "cell_type": "code",
   "execution_count": 35,
   "id": "5e994d8f-8a63-49e3-9efa-7c20cf2b440d",
   "metadata": {},
   "outputs": [],
   "source": [
    "other_eval = False"
   ]
  },
  {
   "cell_type": "code",
   "execution_count": 36,
   "id": "2e0377d6-0daa-4831-817c-61e8438ecef4",
   "metadata": {},
   "outputs": [
    {
     "data": {
      "text/plain": [
       "False"
      ]
     },
     "execution_count": 36,
     "metadata": {},
     "output_type": "execute_result"
    }
   ],
   "source": [
    "other_eval"
   ]
  },
  {
   "cell_type": "code",
   "execution_count": 37,
   "id": "e4e00a13-1f9e-411d-9c22-b58c22944937",
   "metadata": {},
   "outputs": [
    {
     "data": {
      "text/plain": [
       "bool"
      ]
     },
     "execution_count": 37,
     "metadata": {},
     "output_type": "execute_result"
    }
   ],
   "source": [
    "type(other_eval)"
   ]
  },
  {
   "cell_type": "code",
   "execution_count": 38,
   "id": "07bc6802-94cf-4067-b619-b8e4c0ecce4b",
   "metadata": {},
   "outputs": [
    {
     "name": "stdout",
     "output_type": "stream",
     "text": [
      "Variable               Type             Data/Info\n",
      "-------------------------------------------------\n",
      "NamespaceMagics        MetaHasTraits    <class 'IPython.core.magi<...>mespace.NamespaceMagics'>\n",
      "a                      int              5\n",
      "c                      complex          (5+2j)\n",
      "dataframe_columns      function         <function dataframe_colum<...>ns at 0x000001A612E51C60>\n",
      "dataframe_hash         function         <function dataframe_hash at 0x000001A612E507C0>\n",
      "dtypes_str             function         <function dtypes_str at 0x000001A612E51800>\n",
      "eval                   bool             True\n",
      "get_dataframes         function         <function get_dataframes at 0x000001A612E504A0>\n",
      "get_ipython            function         <function get_ipython at 0x000001A60D78BF60>\n",
      "getpass                module           <module 'getpass' from 'C<...>conda3\\\\Lib\\\\getpass.py'>\n",
      "hashlib                module           <module 'hashlib' from 'C<...>conda3\\\\Lib\\\\hashlib.py'>\n",
      "import_pandas_safely   function         <function import_pandas_s<...>ly at 0x000001A612E64180>\n",
      "is_data_frame          function         <function is_data_frame at 0x000001A612E64400>\n",
      "json                   module           <module 'json' from 'C:\\\\<...>\\Lib\\\\json\\\\__init__.py'>\n",
      "other_eval             bool             False\n",
      "pi                     float            3.1415926\n",
      "sys                    module           <module 'sys' (built-in)>\n",
      "text2                  str              This is a second sample 'Of a text'\n",
      "text3                  str              Este es un ejemplo de tex<...>second sample 'Of a text'\n",
      "text4                  str              line1\\nline2\\nline3\\n\n",
      "texto1                 str              Este es un ejemplo de texto\n"
     ]
    }
   ],
   "source": [
    "%whos"
   ]
  },
  {
   "cell_type": "markdown",
   "id": "d40d658e-84c2-4d11-8096-19ad8b974037",
   "metadata": {},
   "source": [
    "`%whos` is a **jupyter magic command**. It is used to display a list of all variables, functions, and objects that are currently defined in the interactive namespace, along with their types and memory sizes."
   ]
  },
  {
   "cell_type": "markdown",
   "id": "4333aca4-8d5b-4cfb-9fbe-dae1e9761fee",
   "metadata": {},
   "source": [
    "### 3. Booleanos"
   ]
  },
  {
   "cell_type": "code",
   "execution_count": 41,
   "id": "bba91665-a498-43ed-bb62-758ff7172b45",
   "metadata": {},
   "outputs": [
    {
     "data": {
      "text/plain": [
       "True"
      ]
     },
     "execution_count": 41,
     "metadata": {},
     "output_type": "execute_result"
    }
   ],
   "source": [
    "eval = True\n",
    "eval"
   ]
  },
  {
   "cell_type": "code",
   "execution_count": 42,
   "id": "d6975c23-3a9f-4e5e-9f43-66d7e8c3cea7",
   "metadata": {},
   "outputs": [
    {
     "data": {
      "text/plain": [
       "bool"
      ]
     },
     "execution_count": 42,
     "metadata": {},
     "output_type": "execute_result"
    }
   ],
   "source": [
    "type(eval)"
   ]
  },
  {
   "cell_type": "code",
   "execution_count": 43,
   "id": "89332db7-6647-40fe-9f91-203fe31a3100",
   "metadata": {},
   "outputs": [
    {
     "name": "stdout",
     "output_type": "stream",
     "text": [
      "True\n"
     ]
    }
   ],
   "source": [
    "print(eval)"
   ]
  },
  {
   "cell_type": "code",
   "execution_count": 44,
   "id": "2e8a7ed1-ef38-465c-8651-642643a813cf",
   "metadata": {},
   "outputs": [
    {
     "data": {
      "text/plain": [
       "bool"
      ]
     },
     "execution_count": 44,
     "metadata": {},
     "output_type": "execute_result"
    }
   ],
   "source": [
    "other_eval = False\n",
    "type(other_eval)"
   ]
  },
  {
   "cell_type": "code",
   "execution_count": null,
   "id": "24023461-84c6-4a73-ba14-d8dc3d21ec4e",
   "metadata": {},
   "outputs": [],
   "source": []
  },
  {
   "cell_type": "markdown",
   "id": "c40dbd2f-89fb-45ef-9cd0-9bb5b1faed79",
   "metadata": {},
   "source": [
    "## Reglas Basicas"
   ]
  },
  {
   "cell_type": "markdown",
   "id": "94b245fa-207d-4e63-ac5a-a55c205f5c80",
   "metadata": {},
   "source": [
    "Una variable permite almacenar en memoria un dato que sera usado por el programa. El tipo de dato depende de como lo definamos y de que el interprete lo acepte (sintaxis).\n",
    "\n",
    "**Caracteristicas**\n",
    "\n",
    "1. Tienen un valor\n",
    "2. Cuentan con un tipo de dato\n",
    "3. \"id\": posicion en memoria RAM donde se encuentra almaceando el dato\n",
    "\n",
    "El computador identifica a las variables por el id"
   ]
  },
  {
   "cell_type": "code",
   "execution_count": 47,
   "id": "c92e11fa-0e63-4464-b878-56f2d8da4fc4",
   "metadata": {},
   "outputs": [],
   "source": [
    "text1 = \"This is a sample text\""
   ]
  },
  {
   "cell_type": "code",
   "execution_count": 48,
   "id": "5aa5bd1d-3b03-4315-87ce-adec524029a4",
   "metadata": {},
   "outputs": [
    {
     "data": {
      "text/plain": [
       "1812808690352"
      ]
     },
     "execution_count": 48,
     "metadata": {},
     "output_type": "execute_result"
    }
   ],
   "source": [
    "id(text1)"
   ]
  },
  {
   "cell_type": "code",
   "execution_count": 49,
   "id": "61208683-46d1-4424-93cf-fa070b1be9eb",
   "metadata": {},
   "outputs": [],
   "source": [
    "texto2 = \"ejemplo otro de texto\""
   ]
  },
  {
   "cell_type": "code",
   "execution_count": 50,
   "id": "31df64b3-d54b-4980-9d78-4e7cdd7b392d",
   "metadata": {},
   "outputs": [
    {
     "data": {
      "text/plain": [
       "1812809100208"
      ]
     },
     "execution_count": 50,
     "metadata": {},
     "output_type": "execute_result"
    }
   ],
   "source": [
    "id(texto2)"
   ]
  },
  {
   "cell_type": "code",
   "execution_count": 51,
   "id": "afcc819f-9af8-4372-bd34-a2c3819eba16",
   "metadata": {},
   "outputs": [],
   "source": [
    "texto2 = texto2.upper()"
   ]
  },
  {
   "cell_type": "code",
   "execution_count": 52,
   "id": "393f7e40-a41d-476d-97e5-66ad9519a0a4",
   "metadata": {},
   "outputs": [
    {
     "data": {
      "text/plain": [
       "'EJEMPLO OTRO DE TEXTO'"
      ]
     },
     "execution_count": 52,
     "metadata": {},
     "output_type": "execute_result"
    }
   ],
   "source": [
    "texto2"
   ]
  },
  {
   "cell_type": "code",
   "execution_count": 53,
   "id": "63933e8a-7d2f-43bd-b210-9d1be06bde2f",
   "metadata": {},
   "outputs": [],
   "source": [
    "texto2 = texto2.lower()"
   ]
  },
  {
   "cell_type": "code",
   "execution_count": 54,
   "id": "d6004346-a223-4242-af49-c882889edd4e",
   "metadata": {},
   "outputs": [
    {
     "data": {
      "text/plain": [
       "'ejemplo otro de texto'"
      ]
     },
     "execution_count": 54,
     "metadata": {},
     "output_type": "execute_result"
    }
   ],
   "source": [
    "texto2"
   ]
  },
  {
   "cell_type": "code",
   "execution_count": 55,
   "id": "49b4bdf7-b2ed-4a9b-bf89-cbdfb5abdd1a",
   "metadata": {},
   "outputs": [
    {
     "data": {
      "text/plain": [
       "\u001b[1;31mSignature:\u001b[0m \u001b[0mtexto2\u001b[0m\u001b[1;33m.\u001b[0m\u001b[0mlower\u001b[0m\u001b[1;33m(\u001b[0m\u001b[1;33m)\u001b[0m\u001b[1;33m\u001b[0m\u001b[1;33m\u001b[0m\u001b[0m\n",
       "\u001b[1;31mDocstring:\u001b[0m Return a copy of the string converted to lowercase.\n",
       "\u001b[1;31mType:\u001b[0m      builtin_function_or_method"
      ]
     },
     "metadata": {},
     "output_type": "display_data"
    }
   ],
   "source": [
    "# you can call a methods help or documentation by appendint the method name and ?\n",
    "texto2.lower?"
   ]
  },
  {
   "cell_type": "code",
   "execution_count": 56,
   "id": "db2a808c-fc3c-45df-8deb-66e042ae7d82",
   "metadata": {},
   "outputs": [
    {
     "data": {
      "text/plain": [
       "\u001b[1;31mDocstring:\u001b[0m\n",
       "S.startswith(prefix[, start[, end]]) -> bool\n",
       "\n",
       "Return True if S starts with the specified prefix, False otherwise.\n",
       "With optional start, test S beginning at that position.\n",
       "With optional end, stop comparing S at that position.\n",
       "prefix can also be a tuple of strings to try.\n",
       "\u001b[1;31mType:\u001b[0m      builtin_function_or_method"
      ]
     },
     "metadata": {},
     "output_type": "display_data"
    }
   ],
   "source": [
    "texto2.startswith?"
   ]
  },
  {
   "cell_type": "code",
   "execution_count": 57,
   "id": "bc188bf7-3484-40d1-a277-5baa34cd4810",
   "metadata": {},
   "outputs": [
    {
     "data": {
      "text/plain": [
       "False"
      ]
     },
     "execution_count": 57,
     "metadata": {},
     "output_type": "execute_result"
    }
   ],
   "source": [
    "texto2.startswith(\"F\")"
   ]
  },
  {
   "cell_type": "code",
   "execution_count": 58,
   "id": "a9324aea-09e3-441f-a982-1875d7599230",
   "metadata": {},
   "outputs": [
    {
     "data": {
      "text/plain": [
       "True"
      ]
     },
     "execution_count": 58,
     "metadata": {},
     "output_type": "execute_result"
    }
   ],
   "source": [
    "texto2.startswith(\"e\")"
   ]
  },
  {
   "cell_type": "code",
   "execution_count": 59,
   "id": "d88d09f4-a51f-44aa-86c0-894d9999a366",
   "metadata": {},
   "outputs": [
    {
     "data": {
      "text/plain": [
       "False"
      ]
     },
     "execution_count": 59,
     "metadata": {},
     "output_type": "execute_result"
    }
   ],
   "source": [
    "texto2.startswith(\"E\")"
   ]
  },
  {
   "cell_type": "markdown",
   "id": "8932973e-dc56-47a8-b522-601799268524",
   "metadata": {},
   "source": [
    "### Atributos"
   ]
  },
  {
   "cell_type": "code",
   "execution_count": 61,
   "id": "2fb8aca4-952b-4244-8cb0-03a8ee864e8b",
   "metadata": {},
   "outputs": [],
   "source": [
    "c = 5 + 2j"
   ]
  },
  {
   "cell_type": "code",
   "execution_count": 62,
   "id": "7707bdd9-a36e-4859-a127-a35faa236f3b",
   "metadata": {},
   "outputs": [
    {
     "data": {
      "text/plain": [
       "complex"
      ]
     },
     "execution_count": 62,
     "metadata": {},
     "output_type": "execute_result"
    }
   ],
   "source": [
    "type(c)"
   ]
  },
  {
   "cell_type": "code",
   "execution_count": 63,
   "id": "9bd1d084-865b-4405-a4e9-fec388484be8",
   "metadata": {},
   "outputs": [
    {
     "data": {
      "text/plain": [
       "5.0"
      ]
     },
     "execution_count": 63,
     "metadata": {},
     "output_type": "execute_result"
    }
   ],
   "source": [
    "# Fetching real attribute, these dont require parentheses\n",
    "c.real  # Atributo parte real"
   ]
  },
  {
   "cell_type": "code",
   "execution_count": 64,
   "id": "95ae25de-ccb4-454a-919a-d90fcc05c263",
   "metadata": {},
   "outputs": [
    {
     "data": {
      "text/plain": [
       "2.0"
      ]
     },
     "execution_count": 64,
     "metadata": {},
     "output_type": "execute_result"
    }
   ],
   "source": [
    "c.imag  # Atributo parte imaginaria"
   ]
  },
  {
   "cell_type": "code",
   "execution_count": 65,
   "id": "91a6d3a3-e023-417a-8a07-3265465d3bb1",
   "metadata": {},
   "outputs": [
    {
     "data": {
      "text/plain": [
       "<function complex.conjugate()>"
      ]
     },
     "execution_count": 65,
     "metadata": {},
     "output_type": "execute_result"
    }
   ],
   "source": [
    "c.conjugate"
   ]
  },
  {
   "cell_type": "code",
   "execution_count": 66,
   "id": "8efe51db-9a53-4b7c-bd7e-c7287430eca7",
   "metadata": {},
   "outputs": [
    {
     "data": {
      "text/plain": [
       "(5-2j)"
      ]
     },
     "execution_count": 66,
     "metadata": {},
     "output_type": "execute_result"
    }
   ],
   "source": [
    "c.conjugate()"
   ]
  },
  {
   "cell_type": "code",
   "execution_count": 67,
   "id": "b24a093c-2937-47fc-9b7c-db6140f3da76",
   "metadata": {},
   "outputs": [
    {
     "data": {
      "text/plain": [
       "(5-2j)"
      ]
     },
     "execution_count": 67,
     "metadata": {},
     "output_type": "execute_result"
    }
   ],
   "source": [
    "c.conjugate()  # Esto es un metodo"
   ]
  },
  {
   "cell_type": "markdown",
   "id": "401ebdab-fce5-419f-8f5d-60dc1e314259",
   "metadata": {},
   "source": [
    "## Reglas Basicas para nombrar variables"
   ]
  },
  {
   "cell_type": "markdown",
   "id": "eed074b8-ff12-4b65-a30f-36affe2c72bb",
   "metadata": {},
   "source": [
    "1. Pueden contener letras, numeros y _ pero No pueden comenzar con numeros. x ejemplo `texto1` es valido pero `1_texto` o `teksto 2\n",
    "2. Python distingue entre mayusculas \"Entero\" es distinto a \"ENTERO\"\n",
    "3. No se pueen usar palbars reservadas o de funciones. Ejemplo: `id`, `type`, `list` etc. Puedes ver [el listado completo de funciones](https://docs.python.org/3/library/functions.html) y [el listado completo de palabras reservadas](https://docs.python.org/3/reference/lexical_analysis.html#keywords)\n",
    "4. Los nombres de las variables deben ser descriptivos."
   ]
  }
 ],
 "metadata": {
  "kernelspec": {
   "display_name": "Python [conda env:base] *",
   "language": "python",
   "name": "conda-base-py"
  },
  "language_info": {
   "codemirror_mode": {
    "name": "ipython",
    "version": 3
   },
   "file_extension": ".py",
   "mimetype": "text/x-python",
   "name": "python",
   "nbconvert_exporter": "python",
   "pygments_lexer": "ipython3",
   "version": "3.12.7"
  }
 },
 "nbformat": 4,
 "nbformat_minor": 5
}
