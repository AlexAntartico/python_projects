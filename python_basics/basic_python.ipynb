{
 "cells": [
  {
   "cell_type": "markdown",
   "id": "54492329-e68a-4e1a-a69d-e32aa8d48440",
   "metadata": {},
   "source": [
    "# Operadores basicos"
   ]
  },
  {
   "cell_type": "code",
   "execution_count": 2,
   "id": "05d249b0-e3f0-4bcd-bd45-97b82c5244ea",
   "metadata": {},
   "outputs": [
    {
     "data": {
      "text/plain": [
       "9.1415926"
      ]
     },
     "execution_count": 2,
     "metadata": {},
     "output_type": "execute_result"
    }
   ],
   "source": [
    "# suma\n",
    "5 + 3.1415926 + 1"
   ]
  },
  {
   "cell_type": "code",
   "execution_count": 3,
   "id": "03282b67-7e57-4903-8bcf-78487b012ed2",
   "metadata": {},
   "outputs": [
    {
     "data": {
      "text/plain": [
       "72"
      ]
     },
     "execution_count": 3,
     "metadata": {},
     "output_type": "execute_result"
    }
   ],
   "source": [
    "# Resta\n",
    "2 * 9 * 4"
   ]
  },
  {
   "cell_type": "code",
   "execution_count": 4,
   "id": "180dc990-a0b8-4c91-a4a2-9d04e6346beb",
   "metadata": {},
   "outputs": [
    {
     "data": {
      "text/plain": [
       "0.375"
      ]
     },
     "execution_count": 4,
     "metadata": {},
     "output_type": "execute_result"
    }
   ],
   "source": [
    "# division\n",
    "3 / 8"
   ]
  },
  {
   "cell_type": "code",
   "execution_count": 5,
   "id": "c9c46255-d45c-4413-98c7-486ebbd96472",
   "metadata": {
    "editable": true,
    "slideshow": {
     "slide_type": ""
    },
    "tags": []
   },
   "outputs": [
    {
     "name": "stdout",
     "output_type": "stream",
     "text": [
      "division normal\n",
      "5.333333333333333\n",
      "\n",
      "division mostrando el residual\n",
      "1\n",
      "\n",
      "divison aproxiamda al entero mas pequenio\n",
      "5\n"
     ]
    }
   ],
   "source": [
    "# modulo y floor division\n",
    "print(f\"division normal\\n{16 / 3}\\n\")\n",
    "print(f\"division mostrando el residual\\n{16 % 3}\\n\")\n",
    "print(f\"divison aproxiamda al entero mas pequenio\\n{16//3 }\")"
   ]
  },
  {
   "cell_type": "code",
   "execution_count": 6,
   "id": "e5d8a468-d62d-44f4-be9b-09c6a31f48c5",
   "metadata": {},
   "outputs": [
    {
     "data": {
      "text/plain": [
       "25"
      ]
     },
     "execution_count": 6,
     "metadata": {},
     "output_type": "execute_result"
    }
   ],
   "source": [
    "# Elevar numero a potencia\n",
    "5 ** 2"
   ]
  },
  {
   "cell_type": "code",
   "execution_count": 7,
   "id": "e20a2889-c28f-410a-8f70-78b94633382f",
   "metadata": {},
   "outputs": [
    {
     "data": {
      "text/plain": [
       "216"
      ]
     },
     "execution_count": 7,
     "metadata": {},
     "output_type": "execute_result"
    }
   ],
   "source": [
    "6 ** 3"
   ]
  },
  {
   "cell_type": "markdown",
   "id": "93efa635-af27-4d4a-8d16-bba647dba438",
   "metadata": {},
   "source": [
    "## Precedencia de los operadores"
   ]
  },
  {
   "cell_type": "code",
   "execution_count": 9,
   "id": "ade6b71a-4917-4aad-b834-394013d150d3",
   "metadata": {
    "scrolled": true
   },
   "outputs": [
    {
     "data": {
      "text/plain": [
       "4.0"
      ]
     },
     "execution_count": 9,
     "metadata": {},
     "output_type": "execute_result"
    }
   ],
   "source": [
    "5 * 2 / 2.5"
   ]
  },
  {
   "cell_type": "markdown",
   "id": "b0a7a70c-d326-4570-a53d-9a3a3cc6a0eb",
   "metadata": {},
   "source": [
    "En esta expresion vemos que multiplicamos 5 * 2 = 10\n",
    "y despues dividimos entre 2.5, que nos da 4"
   ]
  },
  {
   "cell_type": "markdown",
   "id": "d8ff848b-1f85-42d4-89dd-4d627c7ca046",
   "metadata": {},
   "source": [
    "Generalmente usamos la expresion mnenonica: `PEMDAS` o la mas antigua `Please excuse my dear aunt sally` que basicamante enumera el orden de precedencia de las operaciones:\n",
    "\n",
    "1. Parentheses\n",
    "2. Exponents\n",
    "3. Multiplication (from left to right)\n",
    "4. Division (from left to right)\n",
    "5. Addition (from left to right)\n",
    "\n",
    "6. Substraction (from left to right)"
   ]
  },
  {
   "cell_type": "code",
   "execution_count": 12,
   "id": "4164ce4e-d452-4416-b9b7-8836cf7d00da",
   "metadata": {},
   "outputs": [
    {
     "data": {
      "text/plain": [
       "4.0"
      ]
     },
     "execution_count": 12,
     "metadata": {},
     "output_type": "execute_result"
    }
   ],
   "source": [
    "5 * (2 / 2.5)"
   ]
  },
  {
   "cell_type": "code",
   "execution_count": 13,
   "id": "9c841dfb-4839-4339-afc6-fbd7d142c764",
   "metadata": {},
   "outputs": [
    {
     "data": {
      "text/plain": [
       "0.8"
      ]
     },
     "execution_count": 13,
     "metadata": {},
     "output_type": "execute_result"
    }
   ],
   "source": [
    "2 / 2.5"
   ]
  },
  {
   "cell_type": "code",
   "execution_count": 14,
   "id": "c9219a82-d69c-403a-a162-186e7dd40e04",
   "metadata": {},
   "outputs": [
    {
     "data": {
      "text/plain": [
       "4.0"
      ]
     },
     "execution_count": 14,
     "metadata": {},
     "output_type": "execute_result"
    }
   ],
   "source": [
    ".8 * 5"
   ]
  },
  {
   "cell_type": "code",
   "execution_count": 15,
   "id": "844ab913-db5e-414e-a8f2-815c2169381d",
   "metadata": {},
   "outputs": [
    {
     "data": {
      "text/plain": [
       "0.75"
      ]
     },
     "execution_count": 15,
     "metadata": {},
     "output_type": "execute_result"
    }
   ],
   "source": [
    "(5 - 2) / 4"
   ]
  },
  {
   "cell_type": "code",
   "execution_count": 16,
   "id": "3b3a0d28-033e-47be-a378-5495a60f4498",
   "metadata": {},
   "outputs": [
    {
     "data": {
      "text/plain": [
       "0.75"
      ]
     },
     "execution_count": 16,
     "metadata": {},
     "output_type": "execute_result"
    }
   ],
   "source": [
    "3 / 4"
   ]
  },
  {
   "cell_type": "code",
   "execution_count": null,
   "id": "87af3f55-b422-4eaa-8adf-0e46133d3685",
   "metadata": {},
   "outputs": [],
   "source": []
  },
  {
   "cell_type": "markdown",
   "id": "af3b6fb0-8ce6-4cd4-912d-ca8d6cc83aea",
   "metadata": {},
   "source": [
    "## Tipos de datos"
   ]
  },
  {
   "cell_type": "markdown",
   "id": "f075410c-6cdc-4eca-a8b0-6fc2a05c7cb4",
   "metadata": {},
   "source": [
    "### 1. Strings"
   ]
  },
  {
   "cell_type": "code",
   "execution_count": 19,
   "id": "a5a4c860-79d6-4354-8432-fa96f3e722e1",
   "metadata": {},
   "outputs": [],
   "source": [
    "texto1 = \"Este es un ejemplo de texto\""
   ]
  },
  {
   "cell_type": "code",
   "execution_count": 20,
   "id": "3524966d-adf0-4d25-af99-f1fe703c6542",
   "metadata": {},
   "outputs": [],
   "source": [
    "text2 = \"This is a second sample 'Of a text'\""
   ]
  },
  {
   "cell_type": "code",
   "execution_count": 21,
   "id": "c95e03cc-f61b-4d07-98c5-e0c925da11c3",
   "metadata": {},
   "outputs": [
    {
     "name": "stdout",
     "output_type": "stream",
     "text": [
      "Este es un ejemplo de texto\n",
      "This is a second sample 'Of a text'\n"
     ]
    }
   ],
   "source": [
    "print(f\"{texto1}\\n{text2}\")"
   ]
  },
  {
   "cell_type": "code",
   "execution_count": 22,
   "id": "f5666315-56ad-407d-8d23-5c2424a31371",
   "metadata": {},
   "outputs": [
    {
     "data": {
      "text/plain": [
       "\"Este es un ejemplo de textoThis is a second sample 'Of a text'\""
      ]
     },
     "execution_count": 22,
     "metadata": {},
     "output_type": "execute_result"
    }
   ],
   "source": [
    "# You can concatenate str's\n",
    "text3 = texto1 + text2\n",
    "text3"
   ]
  },
  {
   "cell_type": "code",
   "execution_count": 23,
   "id": "5588fb9f-8dad-45be-b56a-6fc048adfa6b",
   "metadata": {},
   "outputs": [
    {
     "data": {
      "text/plain": [
       "\"Este es un ejemplo de texto This is a second sample 'Of a text'\""
      ]
     },
     "execution_count": 23,
     "metadata": {},
     "output_type": "execute_result"
    }
   ],
   "source": [
    "# You can add more str to a concatenation:\n",
    "text3 = texto1 + \" \" + text2\n",
    "text3"
   ]
  },
  {
   "cell_type": "code",
   "execution_count": 24,
   "id": "0c1e8e90-f75b-4f4f-a57c-7396ca6bc0f5",
   "metadata": {},
   "outputs": [
    {
     "data": {
      "text/plain": [
       "\"Este es un ejemplo de texto adding even more strs This is a second sample 'Of a text'\""
      ]
     },
     "execution_count": 24,
     "metadata": {},
     "output_type": "execute_result"
    }
   ],
   "source": [
    "text3 = texto1 + \" adding even more strs\"+ \" \" + text2\n",
    "text3"
   ]
  },
  {
   "cell_type": "code",
   "execution_count": 25,
   "id": "3e9c70e6-7ec0-4279-985b-9535aba181d8",
   "metadata": {},
   "outputs": [
    {
     "name": "stdout",
     "output_type": "stream",
     "text": [
      "line1\n",
      "line2\n",
      "line3\n",
      "\n"
     ]
    }
   ],
   "source": [
    "# Caracteres de escape\n",
    "text4 = 'line1\\nline2\\nline3\\n'\n",
    "print(text4)"
   ]
  },
  {
   "cell_type": "code",
   "execution_count": 26,
   "id": "db9c65ff-1580-48c8-a017-ba2644719b6e",
   "metadata": {},
   "outputs": [
    {
     "data": {
      "text/plain": [
       "'line1\\nline2\\nline3\\n'"
      ]
     },
     "execution_count": 26,
     "metadata": {},
     "output_type": "execute_result"
    }
   ],
   "source": [
    "# notice the difference when you call in jupyter\n",
    "text4"
   ]
  },
  {
   "cell_type": "markdown",
   "id": "ce57bc7a-083c-4b0f-91ca-1178ee679340",
   "metadata": {},
   "source": [
    "### 2. Numeros"
   ]
  },
  {
   "cell_type": "code",
   "execution_count": 28,
   "id": "1b8a2195-08b8-4493-a89b-6a6980e1faf1",
   "metadata": {},
   "outputs": [
    {
     "data": {
      "text/plain": [
       "int"
      ]
     },
     "execution_count": 28,
     "metadata": {},
     "output_type": "execute_result"
    }
   ],
   "source": [
    "# tipo entero\n",
    "a = 5\n",
    "type(a)"
   ]
  },
  {
   "cell_type": "code",
   "execution_count": 29,
   "id": "000af3c2-cb54-4ac4-aabe-0d90723cac1e",
   "metadata": {},
   "outputs": [
    {
     "data": {
      "text/plain": [
       "float"
      ]
     },
     "execution_count": 29,
     "metadata": {},
     "output_type": "execute_result"
    }
   ],
   "source": [
    "# Tipo decimal\n",
    "pi = 3.1415926\n",
    "type(pi)"
   ]
  },
  {
   "cell_type": "code",
   "execution_count": 30,
   "id": "10c29eeb-6628-4d8e-9dca-7e5a1dcfe638",
   "metadata": {},
   "outputs": [
    {
     "data": {
      "text/plain": [
       "complex"
      ]
     },
     "execution_count": 30,
     "metadata": {},
     "output_type": "execute_result"
    }
   ],
   "source": [
    "# tipo complejo\n",
    "c = 5 + 2j\n",
    "type(c)"
   ]
  },
  {
   "cell_type": "markdown",
   "id": "19e1c815-42e4-470f-9f8a-b2f6528e76bb",
   "metadata": {},
   "source": [
    "### 3. Booleans"
   ]
  },
  {
   "cell_type": "code",
   "execution_count": 32,
   "id": "e4dacdc5-6b35-4162-b2f5-db721871b9aa",
   "metadata": {},
   "outputs": [
    {
     "data": {
      "text/plain": [
       "True"
      ]
     },
     "execution_count": 32,
     "metadata": {},
     "output_type": "execute_result"
    }
   ],
   "source": [
    "eval = True\n",
    "eval"
   ]
  },
  {
   "cell_type": "code",
   "execution_count": 33,
   "id": "457ad549-aa90-4e57-8d7c-374b2cb32ece",
   "metadata": {},
   "outputs": [
    {
     "name": "stdout",
     "output_type": "stream",
     "text": [
      "True\n"
     ]
    }
   ],
   "source": [
    "print(eval)"
   ]
  },
  {
   "cell_type": "code",
   "execution_count": 34,
   "id": "fbecbeb7-1039-4b6b-beb2-45bada3a264e",
   "metadata": {},
   "outputs": [
    {
     "data": {
      "text/plain": [
       "bool"
      ]
     },
     "execution_count": 34,
     "metadata": {},
     "output_type": "execute_result"
    }
   ],
   "source": [
    "type(eval)"
   ]
  },
  {
   "cell_type": "code",
   "execution_count": 35,
   "id": "5e994d8f-8a63-49e3-9efa-7c20cf2b440d",
   "metadata": {},
   "outputs": [],
   "source": [
    "other_eval = False"
   ]
  },
  {
   "cell_type": "code",
   "execution_count": 36,
   "id": "2e0377d6-0daa-4831-817c-61e8438ecef4",
   "metadata": {},
   "outputs": [
    {
     "data": {
      "text/plain": [
       "False"
      ]
     },
     "execution_count": 36,
     "metadata": {},
     "output_type": "execute_result"
    }
   ],
   "source": [
    "other_eval"
   ]
  },
  {
   "cell_type": "code",
   "execution_count": 37,
   "id": "e4e00a13-1f9e-411d-9c22-b58c22944937",
   "metadata": {},
   "outputs": [
    {
     "data": {
      "text/plain": [
       "bool"
      ]
     },
     "execution_count": 37,
     "metadata": {},
     "output_type": "execute_result"
    }
   ],
   "source": [
    "type(other_eval)"
   ]
  },
  {
   "cell_type": "code",
   "execution_count": 38,
   "id": "07bc6802-94cf-4067-b619-b8e4c0ecce4b",
   "metadata": {},
   "outputs": [
    {
     "name": "stdout",
     "output_type": "stream",
     "text": [
      "Variable               Type             Data/Info\n",
      "-------------------------------------------------\n",
      "NamespaceMagics        MetaHasTraits    <class 'IPython.core.magi<...>mespace.NamespaceMagics'>\n",
      "a                      int              5\n",
      "c                      complex          (5+2j)\n",
      "dataframe_columns      function         <function dataframe_colum<...>ns at 0x000001A612E51C60>\n",
      "dataframe_hash         function         <function dataframe_hash at 0x000001A612E507C0>\n",
      "dtypes_str             function         <function dtypes_str at 0x000001A612E51800>\n",
      "eval                   bool             True\n",
      "get_dataframes         function         <function get_dataframes at 0x000001A612E504A0>\n",
      "get_ipython            function         <function get_ipython at 0x000001A60D78BF60>\n",
      "getpass                module           <module 'getpass' from 'C<...>conda3\\\\Lib\\\\getpass.py'>\n",
      "hashlib                module           <module 'hashlib' from 'C<...>conda3\\\\Lib\\\\hashlib.py'>\n",
      "import_pandas_safely   function         <function import_pandas_s<...>ly at 0x000001A612E64180>\n",
      "is_data_frame          function         <function is_data_frame at 0x000001A612E64400>\n",
      "json                   module           <module 'json' from 'C:\\\\<...>\\Lib\\\\json\\\\__init__.py'>\n",
      "other_eval             bool             False\n",
      "pi                     float            3.1415926\n",
      "sys                    module           <module 'sys' (built-in)>\n",
      "text2                  str              This is a second sample 'Of a text'\n",
      "text3                  str              Este es un ejemplo de tex<...>second sample 'Of a text'\n",
      "text4                  str              line1\\nline2\\nline3\\n\n",
      "texto1                 str              Este es un ejemplo de texto\n"
     ]
    }
   ],
   "source": [
    "%whos"
   ]
  },
  {
   "cell_type": "markdown",
   "id": "d40d658e-84c2-4d11-8096-19ad8b974037",
   "metadata": {},
   "source": [
    "`%whos` is a **jupyter magic command**. It is used to display a list of all variables, functions, and objects that are currently defined in the interactive namespace, along with their types and memory sizes."
   ]
  },
  {
   "cell_type": "markdown",
   "id": "4333aca4-8d5b-4cfb-9fbe-dae1e9761fee",
   "metadata": {},
   "source": [
    "### 3. Booleanos"
   ]
  },
  {
   "cell_type": "code",
   "execution_count": 41,
   "id": "bba91665-a498-43ed-bb62-758ff7172b45",
   "metadata": {},
   "outputs": [
    {
     "data": {
      "text/plain": [
       "True"
      ]
     },
     "execution_count": 41,
     "metadata": {},
     "output_type": "execute_result"
    }
   ],
   "source": [
    "eval = True\n",
    "eval"
   ]
  },
  {
   "cell_type": "code",
   "execution_count": 42,
   "id": "d6975c23-3a9f-4e5e-9f43-66d7e8c3cea7",
   "metadata": {},
   "outputs": [
    {
     "data": {
      "text/plain": [
       "bool"
      ]
     },
     "execution_count": 42,
     "metadata": {},
     "output_type": "execute_result"
    }
   ],
   "source": [
    "type(eval)"
   ]
  },
  {
   "cell_type": "code",
   "execution_count": 43,
   "id": "89332db7-6647-40fe-9f91-203fe31a3100",
   "metadata": {},
   "outputs": [
    {
     "name": "stdout",
     "output_type": "stream",
     "text": [
      "True\n"
     ]
    }
   ],
   "source": [
    "print(eval)"
   ]
  },
  {
   "cell_type": "code",
   "execution_count": 44,
   "id": "2e8a7ed1-ef38-465c-8651-642643a813cf",
   "metadata": {},
   "outputs": [
    {
     "data": {
      "text/plain": [
       "bool"
      ]
     },
     "execution_count": 44,
     "metadata": {},
     "output_type": "execute_result"
    }
   ],
   "source": [
    "other_eval = False\n",
    "type(other_eval)"
   ]
  },
  {
   "cell_type": "code",
   "execution_count": null,
   "id": "24023461-84c6-4a73-ba14-d8dc3d21ec4e",
   "metadata": {},
   "outputs": [],
   "source": []
  },
  {
   "cell_type": "markdown",
   "id": "c40dbd2f-89fb-45ef-9cd0-9bb5b1faed79",
   "metadata": {},
   "source": [
    "## Reglas Basicas"
   ]
  },
  {
   "cell_type": "markdown",
   "id": "94b245fa-207d-4e63-ac5a-a55c205f5c80",
   "metadata": {},
   "source": [
    "Una variable permite almacenar en memoria un dato que sera usado por el programa. El tipo de dato depende de como lo definamos y de que el interprete lo acepte (sintaxis).\n",
    "\n",
    "**Caracteristicas**\n",
    "\n",
    "1. Tienen un valor\n",
    "2. Cuentan con un tipo de dato\n",
    "3. \"id\": posicion en memoria RAM donde se encuentra almaceando el dato\n",
    "\n",
    "El computador identifica a las variables por el id"
   ]
  },
  {
   "cell_type": "code",
   "execution_count": 47,
   "id": "c92e11fa-0e63-4464-b878-56f2d8da4fc4",
   "metadata": {},
   "outputs": [],
   "source": [
    "text1 = \"This is a sample text\""
   ]
  },
  {
   "cell_type": "code",
   "execution_count": 48,
   "id": "5aa5bd1d-3b03-4315-87ce-adec524029a4",
   "metadata": {},
   "outputs": [
    {
     "data": {
      "text/plain": [
       "1812808690352"
      ]
     },
     "execution_count": 48,
     "metadata": {},
     "output_type": "execute_result"
    }
   ],
   "source": [
    "id(text1)"
   ]
  },
  {
   "cell_type": "code",
   "execution_count": 49,
   "id": "61208683-46d1-4424-93cf-fa070b1be9eb",
   "metadata": {},
   "outputs": [],
   "source": [
    "texto2 = \"ejemplo otro de texto\""
   ]
  },
  {
   "cell_type": "code",
   "execution_count": 50,
   "id": "31df64b3-d54b-4980-9d78-4e7cdd7b392d",
   "metadata": {},
   "outputs": [
    {
     "data": {
      "text/plain": [
       "1812809100208"
      ]
     },
     "execution_count": 50,
     "metadata": {},
     "output_type": "execute_result"
    }
   ],
   "source": [
    "id(texto2)"
   ]
  },
  {
   "cell_type": "code",
   "execution_count": 51,
   "id": "afcc819f-9af8-4372-bd34-a2c3819eba16",
   "metadata": {},
   "outputs": [],
   "source": [
    "texto2 = texto2.upper()"
   ]
  },
  {
   "cell_type": "code",
   "execution_count": 52,
   "id": "393f7e40-a41d-476d-97e5-66ad9519a0a4",
   "metadata": {},
   "outputs": [
    {
     "data": {
      "text/plain": [
       "'EJEMPLO OTRO DE TEXTO'"
      ]
     },
     "execution_count": 52,
     "metadata": {},
     "output_type": "execute_result"
    }
   ],
   "source": [
    "texto2"
   ]
  },
  {
   "cell_type": "code",
   "execution_count": 53,
   "id": "63933e8a-7d2f-43bd-b210-9d1be06bde2f",
   "metadata": {},
   "outputs": [],
   "source": [
    "texto2 = texto2.lower()"
   ]
  },
  {
   "cell_type": "code",
   "execution_count": 54,
   "id": "d6004346-a223-4242-af49-c882889edd4e",
   "metadata": {},
   "outputs": [
    {
     "data": {
      "text/plain": [
       "'ejemplo otro de texto'"
      ]
     },
     "execution_count": 54,
     "metadata": {},
     "output_type": "execute_result"
    }
   ],
   "source": [
    "texto2"
   ]
  },
  {
   "cell_type": "code",
   "execution_count": 55,
   "id": "49b4bdf7-b2ed-4a9b-bf89-cbdfb5abdd1a",
   "metadata": {},
   "outputs": [
    {
     "data": {
      "text/plain": [
       "\u001b[1;31mSignature:\u001b[0m \u001b[0mtexto2\u001b[0m\u001b[1;33m.\u001b[0m\u001b[0mlower\u001b[0m\u001b[1;33m(\u001b[0m\u001b[1;33m)\u001b[0m\u001b[1;33m\u001b[0m\u001b[1;33m\u001b[0m\u001b[0m\n",
       "\u001b[1;31mDocstring:\u001b[0m Return a copy of the string converted to lowercase.\n",
       "\u001b[1;31mType:\u001b[0m      builtin_function_or_method"
      ]
     },
     "metadata": {},
     "output_type": "display_data"
    }
   ],
   "source": [
    "# you can call a methods help or documentation by appendint the method name and ?\n",
    "texto2.lower?"
   ]
  },
  {
   "cell_type": "code",
   "execution_count": 56,
   "id": "db2a808c-fc3c-45df-8deb-66e042ae7d82",
   "metadata": {},
   "outputs": [
    {
     "data": {
      "text/plain": [
       "\u001b[1;31mDocstring:\u001b[0m\n",
       "S.startswith(prefix[, start[, end]]) -> bool\n",
       "\n",
       "Return True if S starts with the specified prefix, False otherwise.\n",
       "With optional start, test S beginning at that position.\n",
       "With optional end, stop comparing S at that position.\n",
       "prefix can also be a tuple of strings to try.\n",
       "\u001b[1;31mType:\u001b[0m      builtin_function_or_method"
      ]
     },
     "metadata": {},
     "output_type": "display_data"
    }
   ],
   "source": [
    "texto2.startswith?"
   ]
  },
  {
   "cell_type": "code",
   "execution_count": 57,
   "id": "bc188bf7-3484-40d1-a277-5baa34cd4810",
   "metadata": {},
   "outputs": [
    {
     "data": {
      "text/plain": [
       "False"
      ]
     },
     "execution_count": 57,
     "metadata": {},
     "output_type": "execute_result"
    }
   ],
   "source": [
    "texto2.startswith(\"F\")"
   ]
  },
  {
   "cell_type": "code",
   "execution_count": 58,
   "id": "a9324aea-09e3-441f-a982-1875d7599230",
   "metadata": {},
   "outputs": [
    {
     "data": {
      "text/plain": [
       "True"
      ]
     },
     "execution_count": 58,
     "metadata": {},
     "output_type": "execute_result"
    }
   ],
   "source": [
    "texto2.startswith(\"e\")"
   ]
  },
  {
   "cell_type": "code",
   "execution_count": 59,
   "id": "d88d09f4-a51f-44aa-86c0-894d9999a366",
   "metadata": {},
   "outputs": [
    {
     "data": {
      "text/plain": [
       "False"
      ]
     },
     "execution_count": 59,
     "metadata": {},
     "output_type": "execute_result"
    }
   ],
   "source": [
    "texto2.startswith(\"E\")"
   ]
  },
  {
   "cell_type": "markdown",
   "id": "8932973e-dc56-47a8-b522-601799268524",
   "metadata": {},
   "source": [
    "### Atributos"
   ]
  },
  {
   "cell_type": "code",
   "execution_count": 61,
   "id": "2fb8aca4-952b-4244-8cb0-03a8ee864e8b",
   "metadata": {},
   "outputs": [],
   "source": [
    "c = 5 + 2j"
   ]
  },
  {
   "cell_type": "code",
   "execution_count": 62,
   "id": "7707bdd9-a36e-4859-a127-a35faa236f3b",
   "metadata": {},
   "outputs": [
    {
     "data": {
      "text/plain": [
       "complex"
      ]
     },
     "execution_count": 62,
     "metadata": {},
     "output_type": "execute_result"
    }
   ],
   "source": [
    "type(c)"
   ]
  },
  {
   "cell_type": "code",
   "execution_count": 63,
   "id": "9bd1d084-865b-4405-a4e9-fec388484be8",
   "metadata": {},
   "outputs": [
    {
     "data": {
      "text/plain": [
       "5.0"
      ]
     },
     "execution_count": 63,
     "metadata": {},
     "output_type": "execute_result"
    }
   ],
   "source": [
    "# Fetching real attribute, these dont require parentheses\n",
    "c.real  # Atributo parte real"
   ]
  },
  {
   "cell_type": "code",
   "execution_count": 64,
   "id": "95ae25de-ccb4-454a-919a-d90fcc05c263",
   "metadata": {},
   "outputs": [
    {
     "data": {
      "text/plain": [
       "2.0"
      ]
     },
     "execution_count": 64,
     "metadata": {},
     "output_type": "execute_result"
    }
   ],
   "source": [
    "c.imag  # Atributo parte imaginaria"
   ]
  },
  {
   "cell_type": "code",
   "execution_count": 65,
   "id": "91a6d3a3-e023-417a-8a07-3265465d3bb1",
   "metadata": {},
   "outputs": [
    {
     "data": {
      "text/plain": [
       "<function complex.conjugate()>"
      ]
     },
     "execution_count": 65,
     "metadata": {},
     "output_type": "execute_result"
    }
   ],
   "source": [
    "c.conjugate"
   ]
  },
  {
   "cell_type": "code",
   "execution_count": 66,
   "id": "8efe51db-9a53-4b7c-bd7e-c7287430eca7",
   "metadata": {},
   "outputs": [
    {
     "data": {
      "text/plain": [
       "(5-2j)"
      ]
     },
     "execution_count": 66,
     "metadata": {},
     "output_type": "execute_result"
    }
   ],
   "source": [
    "c.conjugate()"
   ]
  },
  {
   "cell_type": "code",
   "execution_count": 67,
   "id": "b24a093c-2937-47fc-9b7c-db6140f3da76",
   "metadata": {},
   "outputs": [
    {
     "data": {
      "text/plain": [
       "(5-2j)"
      ]
     },
     "execution_count": 67,
     "metadata": {},
     "output_type": "execute_result"
    }
   ],
   "source": [
    "c.conjugate()  # Esto es un metodo"
   ]
  },
  {
   "cell_type": "markdown",
   "id": "401ebdab-fce5-419f-8f5d-60dc1e314259",
   "metadata": {},
   "source": [
    "## Reglas Basicas para nombrar variables"
   ]
  },
  {
   "cell_type": "markdown",
   "id": "eed074b8-ff12-4b65-a30f-36affe2c72bb",
   "metadata": {},
   "source": [
    "1. Pueden contener letras, numeros y _ pero No pueden comenzar con numeros. x ejemplo `texto1` es valido pero `1_texto` o `teksto 2\n",
    "2. Python distingue entre mayusculas \"Entero\" es distinto a \"ENTERO\"\n",
    "3. No se pueen usar palbars reservadas o de funciones. Ejemplo: `id`, `type`, `list` etc. Puedes ver [el listado completo de funciones](https://docs.python.org/3/library/functions.html) y [el listado completo de palabras reservadas](https://docs.python.org/3/reference/lexical_analysis.html#keywords)\n",
    "4. Los nombres de las variables deben ser descriptivos."
   ]
  },
  {
   "cell_type": "markdown",
   "id": "cac87908-27e4-4f01-bd17-08327c2dc8ed",
   "metadata": {},
   "source": [
    "## Leyendo datos desde el teclado y manejo de errores"
   ]
  },
  {
   "cell_type": "markdown",
   "id": "bb34f067-4684-4b83-b143-99045bdad4da",
   "metadata": {},
   "source": [
    "Completa un programa que:\n",
    "1. Acepte 3 variables de entrada numericas introducidas por el usuario desde el teclado (a, b, c)\n",
    "2. Debe imprimir en pantalla una tabla similar\n",
    "\n",
    "a + b + c\t           \t 7.3, 12.1, 6.7\n",
    "\n",
    "a+b+c\n",
    "\n",
    "a*b*c\n",
    "\n",
    "a*c/c\n",
    "\n",
    "y dar los resultados"
   ]
  },
  {
   "cell_type": "code",
   "execution_count": 4,
   "id": "9368dd5b-aab3-4854-922c-59d1c59acc05",
   "metadata": {},
   "outputs": [
    {
     "name": "stdin",
     "output_type": "stream",
     "text": [
      "Introduzca el dato a:  7.3\n",
      "Introduzca el dato b:  12.1\n",
      "Introduzca el dato c:  6.7\n"
     ]
    }
   ],
   "source": [
    "a = input(\"Introduzca el dato a: \")\n",
    "b = input(\"Introduzca el dato b: \")\n",
    "c = input(\"Introduzca el dato c: \")"
   ]
  },
  {
   "cell_type": "code",
   "execution_count": 18,
   "id": "540e7440-bf11-4358-b5c7-f16cae222344",
   "metadata": {},
   "outputs": [
    {
     "ename": "TypeError",
     "evalue": "can't multiply sequence by non-int of type 'str'",
     "output_type": "error",
     "traceback": [
      "\u001b[1;31m---------------------------------------------------------------------------\u001b[0m",
      "\u001b[1;31mTypeError\u001b[0m                                 Traceback (most recent call last)",
      "Cell \u001b[1;32mIn[18], line 2\u001b[0m\n\u001b[0;32m      1\u001b[0m suma \u001b[38;5;241m=\u001b[39m a \u001b[38;5;241m+\u001b[39m b \u001b[38;5;241m+\u001b[39m c\n\u001b[1;32m----> 2\u001b[0m mult \u001b[38;5;241m=\u001b[39m a \u001b[38;5;241m*\u001b[39m b \u001b[38;5;241m*\u001b[39m c\n\u001b[0;32m      3\u001b[0m poli \u001b[38;5;241m=\u001b[39m a \u001b[38;5;241m*\u001b[39m b \u001b[38;5;241m/\u001b[39m c\n",
      "\u001b[1;31mTypeError\u001b[0m: can't multiply sequence by non-int of type 'str'"
     ]
    }
   ],
   "source": [
    "suma = a + b + c\n",
    "mult = a * b * c\n",
    "poli = a * b / c"
   ]
  },
  {
   "cell_type": "code",
   "execution_count": 20,
   "id": "0949bcd4-f61c-47ab-81e0-cd059147575d",
   "metadata": {},
   "outputs": [
    {
     "data": {
      "text/plain": [
       "'7.312.16.7'"
      ]
     },
     "execution_count": 20,
     "metadata": {},
     "output_type": "execute_result"
    }
   ],
   "source": [
    "suma"
   ]
  },
  {
   "cell_type": "code",
   "execution_count": 22,
   "id": "1a19b8d8-4dca-4bd3-b8f3-a8f98cca1ee4",
   "metadata": {},
   "outputs": [
    {
     "data": {
      "text/plain": [
       "str"
      ]
     },
     "execution_count": 22,
     "metadata": {},
     "output_type": "execute_result"
    }
   ],
   "source": [
    "type(a)"
   ]
  },
  {
   "cell_type": "code",
   "execution_count": 26,
   "id": "a340a4aa-e444-41d2-a501-d255cb927bf8",
   "metadata": {},
   "outputs": [],
   "source": [
    "a = float(a)\n",
    "b = float(b)\n",
    "c = float(c)"
   ]
  },
  {
   "cell_type": "code",
   "execution_count": 28,
   "id": "e255cd30-605d-4f34-861f-cb8fdcce4ab3",
   "metadata": {},
   "outputs": [],
   "source": [
    "suma = a + b + c\n",
    "mult = a * b * c\n",
    "poli = a * b / c"
   ]
  },
  {
   "cell_type": "code",
   "execution_count": 46,
   "id": "961bf71d-dd70-46f2-8e0d-782e0d31e722",
   "metadata": {},
   "outputs": [
    {
     "data": {
      "text/plain": [
       "591.811"
      ]
     },
     "execution_count": 46,
     "metadata": {},
     "output_type": "execute_result"
    }
   ],
   "source": [
    "mult"
   ]
  },
  {
   "cell_type": "code",
   "execution_count": 76,
   "id": "09b70b0c-e87e-49ba-99f6-ad0b39414e7a",
   "metadata": {},
   "outputs": [
    {
     "name": "stdout",
     "output_type": "stream",
     "text": [
      "a, b, c\t\t\t 7.3, 12.1, 6.7\n",
      "a + b + c\t\t 26.099999999999998\n",
      "a * b * c\t\t 591.811\n",
      "a * b / c\t\t 13.183582089552239\n"
     ]
    }
   ],
   "source": [
    "# primera linea\n",
    "print(f\"a, b, c\\t\\t\\t\", str(a)+\", \" +str(b)+\", \"+str(c) )\n",
    "print(f\"a + b + c\\t\\t\", str(suma))\n",
    "print(f\"a * b * c\\t\\t\", str(mult))\n",
    "print(f\"a * b / c\\t\\t\", str(poli))"
   ]
  },
  {
   "cell_type": "code",
   "execution_count": 80,
   "id": "584d8c08-c109-4092-b49a-349521edf9ed",
   "metadata": {},
   "outputs": [
    {
     "name": "stdout",
     "output_type": "stream",
     "text": [
      "a, b, c\t\t\t 7.3, 12.1, 6.7\n",
      "a + b + c\t\t 26.1\n",
      "a * b * c\t\t 591.81\n",
      "a * b / c\t\t 13.18\n"
     ]
    }
   ],
   "source": [
    "# primera redondeando los floats a dos digitos\n",
    "print(f\"a, b, c\\t\\t\\t\", str(a)+\", \" +str(b)+\", \"+str(c) )\n",
    "print(f\"a + b + c\\t\\t\", round(suma, 2))\n",
    "print(f\"a * b * c\\t\\t\", round(mult, 2))\n",
    "print(f\"a * b / c\\t\\t\", round(poli, 2))"
   ]
  },
  {
   "cell_type": "markdown",
   "id": "8fbe4e22-fc32-43b8-9b7a-dbd3aa5b69e6",
   "metadata": {},
   "source": [
    "## Tipos de Datos, Variables y Expresiones"
   ]
  },
  {
   "cell_type": "markdown",
   "id": "fbaafbe5-9442-4a38-adf3-a0a269b900ff",
   "metadata": {},
   "source": [
    "### Operadores de comparacion y variables booleanas"
   ]
  },
  {
   "cell_type": "markdown",
   "id": "f9eb0f41-b327-45de-afd0-8c7ac8a3b825",
   "metadata": {},
   "source": [
    "Una condicion permite comparar dos variables y arrojar un resultado que puede ser verdadero (True) o falso (False). Este resultado, es una variable booleana"
   ]
  },
  {
   "cell_type": "code",
   "execution_count": 97,
   "id": "8f3aaa0d-5fd1-47f6-b2fe-c9bba181989c",
   "metadata": {},
   "outputs": [
    {
     "data": {
      "text/plain": [
       "True"
      ]
     },
     "execution_count": 97,
     "metadata": {},
     "output_type": "execute_result"
    }
   ],
   "source": [
    "# Operador mayor que > \n",
    "7 > 4"
   ]
  },
  {
   "cell_type": "code",
   "execution_count": 101,
   "id": "2cb5e5ed-55a0-437c-8efd-8c0cff8da00d",
   "metadata": {},
   "outputs": [
    {
     "data": {
      "text/plain": [
       "False"
      ]
     },
     "execution_count": 101,
     "metadata": {},
     "output_type": "execute_result"
    }
   ],
   "source": [
    "# Operador menor que <\n",
    "8 < 5"
   ]
  },
  {
   "cell_type": "code",
   "execution_count": 103,
   "id": "0f86a5f9-e8b8-4d0f-8dbe-515c6f2cc73c",
   "metadata": {},
   "outputs": [
    {
     "data": {
      "text/plain": [
       "True"
      ]
     },
     "execution_count": 103,
     "metadata": {},
     "output_type": "execute_result"
    }
   ],
   "source": [
    "# Operador mayor o igual que\n",
    "7 >= 7"
   ]
  },
  {
   "cell_type": "code",
   "execution_count": 108,
   "id": "0b2f797b-645b-4c03-b98d-920267892cf4",
   "metadata": {},
   "outputs": [
    {
     "data": {
      "text/plain": [
       "False"
      ]
     },
     "execution_count": 108,
     "metadata": {},
     "output_type": "execute_result"
    }
   ],
   "source": [
    "# Operador menor o igual que <=\n",
    "7 <= 2"
   ]
  },
  {
   "cell_type": "markdown",
   "id": "19c77290-7e1c-49ce-9b9e-a647f2fecf2d",
   "metadata": {},
   "source": [
    "`>=` es considerado como un solo operador, si lo intentas ejecutar con un espacio en blanco, regresa un error de syntaxis"
   ]
  },
  {
   "cell_type": "code",
   "execution_count": 113,
   "id": "0bfa52f5-625d-4a8c-a7d8-5a23b30e0a43",
   "metadata": {},
   "outputs": [
    {
     "ename": "SyntaxError",
     "evalue": "invalid syntax (509699756.py, line 1)",
     "output_type": "error",
     "traceback": [
      "\u001b[1;36m  Cell \u001b[1;32mIn[113], line 1\u001b[1;36m\u001b[0m\n\u001b[1;33m    10 > = 5\u001b[0m\n\u001b[1;37m         ^\u001b[0m\n\u001b[1;31mSyntaxError\u001b[0m\u001b[1;31m:\u001b[0m invalid syntax\n"
     ]
    }
   ],
   "source": [
    "10 > = 5"
   ]
  },
  {
   "cell_type": "code",
   "execution_count": 115,
   "id": "8f87ee4b-db0d-4986-8308-8371a7c5d188",
   "metadata": {},
   "outputs": [
    {
     "data": {
      "text/plain": [
       "False"
      ]
     },
     "execution_count": 115,
     "metadata": {},
     "output_type": "execute_result"
    }
   ],
   "source": [
    "# operador de igualdad\n",
    "2 == 3"
   ]
  },
  {
   "cell_type": "code",
   "execution_count": 117,
   "id": "29190685-1897-44c3-aeac-78411e1fd397",
   "metadata": {},
   "outputs": [
    {
     "data": {
      "text/plain": [
       "True"
      ]
     },
     "execution_count": 117,
     "metadata": {},
     "output_type": "execute_result"
    }
   ],
   "source": [
    "3 == 3"
   ]
  },
  {
   "cell_type": "code",
   "execution_count": 121,
   "id": "231c3366-8805-49df-ae31-c5227c96e002",
   "metadata": {},
   "outputs": [
    {
     "data": {
      "text/plain": [
       "True"
      ]
     },
     "execution_count": 121,
     "metadata": {},
     "output_type": "execute_result"
    }
   ],
   "source": [
    "# podemos evaluar strings\n",
    "\"palindromo\" == \"palindromo\""
   ]
  },
  {
   "cell_type": "code",
   "execution_count": 123,
   "id": "4ccbf56e-a642-444a-8eaf-c0f4e4551a72",
   "metadata": {},
   "outputs": [
    {
     "data": {
      "text/plain": [
       "True"
      ]
     },
     "execution_count": 123,
     "metadata": {},
     "output_type": "execute_result"
    }
   ],
   "source": [
    "# Operador distinto a: !=\n",
    "5 != 6"
   ]
  },
  {
   "cell_type": "code",
   "execution_count": 125,
   "id": "43485321-c53b-4dd9-8b70-bd6aa90e4cd2",
   "metadata": {},
   "outputs": [
    {
     "data": {
      "text/plain": [
       "True"
      ]
     },
     "execution_count": 125,
     "metadata": {},
     "output_type": "execute_result"
    }
   ],
   "source": [
    "\"palindromo\" != \"pli\""
   ]
  },
  {
   "cell_type": "markdown",
   "id": "0b08aa9d-dfa1-4bbf-be2e-66c3f1ca8b4e",
   "metadata": {},
   "source": [
    "### Sentancias if ... else"
   ]
  },
  {
   "cell_type": "markdown",
   "id": "baa0a435-9668-4abe-b2ae-96e4c3dccdee",
   "metadata": {},
   "source": [
    "Tomar el puntaje obtenido por un estudiante en  una prueba y si este puntaje es mayor o igual a 60, imprimir \"aprobado\", y si no, imprimir \"no aprobado\""
   ]
  },
  {
   "cell_type": "code",
   "execution_count": 153,
   "id": "07081da2-6a3a-4b0d-a865-d0b2a30de7b3",
   "metadata": {},
   "outputs": [
    {
     "name": "stdin",
     "output_type": "stream",
     "text": [
      "ingrese el puntaje obtenido:  81\n"
     ]
    }
   ],
   "source": [
    "puntaje = float(input(\"ingrese el puntaje obtenido: \"))"
   ]
  },
  {
   "cell_type": "code",
   "execution_count": 155,
   "id": "4fbd3808-0ee9-4b2e-927b-f4326b2b64a3",
   "metadata": {},
   "outputs": [
    {
     "name": "stdout",
     "output_type": "stream",
     "text": [
      "Aprobado\n",
      "Felicitaciones\n"
     ]
    }
   ],
   "source": [
    "# sentencia if ... else\n",
    "if puntaje >= 60:\n",
    "    print(\"Aprobado\\nFelicitaciones\")\n",
    "else:\n",
    "    print(\"No Aprobado\\nTry Again\")"
   ]
  },
  {
   "cell_type": "markdown",
   "id": "c0d30967-8cfc-4d59-bac1-f9149f6438c1",
   "metadata": {},
   "source": [
    "### Calculando el costo de una entrada"
   ]
  },
  {
   "cell_type": "markdown",
   "id": "ddee2312-8709-467c-9cf6-3cb0c6d1cfc4",
   "metadata": {},
   "source": [
    "Tomar puntaje obtenido por el estudiante e imprimir lo siguiente:\n",
    "puntaje >= 95 'nivel superior'\n",
    "puntaje >= 80 y <95 'nivel alto'\n",
    "puntaje >= 60 y <80 'nivle medio\n",
    "puntaje < 60 'nivel bajo'"
   ]
  },
  {
   "cell_type": "code",
   "execution_count": 161,
   "id": "1ff62714-df1d-4c92-8ba4-3fbf8a037d1b",
   "metadata": {},
   "outputs": [
    {
     "name": "stdout",
     "output_type": "stream",
     "text": [
      "Nivel Alto\n"
     ]
    }
   ],
   "source": [
    "# sentencia if\n",
    "if puntaje >= 95:\n",
    "    print(\"Nivel Superior\")\n",
    "elif 80 <= puntaje < 95:\n",
    "    print(\"Nivel Alto\")\n",
    "elif 60 <= puntaje < 80:\n",
    "    print(\"Nivel Medio\")\n",
    "elif puntaje < 60:\n",
    "    print(\"Nivel Bajo\")"
   ]
  },
  {
   "cell_type": "code",
   "execution_count": 163,
   "id": "60cedc99-4706-4e1a-9cca-b635428b6298",
   "metadata": {},
   "outputs": [],
   "source": [
    "def cali(puntaje):\n",
    "    if puntaje >= 95:\n",
    "        print(\"Nivel Superior\")\n",
    "    elif 80 <= puntaje < 95:\n",
    "        print(\"Nivel Alto\")\n",
    "    elif 60 <= puntaje < 80:\n",
    "        print(\"Nivel Medio\")\n",
    "    elif puntaje < 60:\n",
    "        print(\"Nivel Bajo\")\n"
   ]
  },
  {
   "cell_type": "code",
   "execution_count": 165,
   "id": "47302d0e-2eea-4adf-99ee-3c437cde013a",
   "metadata": {},
   "outputs": [
    {
     "name": "stdout",
     "output_type": "stream",
     "text": [
      "Nivel Medio\n"
     ]
    }
   ],
   "source": [
    "cali(60)"
   ]
  },
  {
   "cell_type": "code",
   "execution_count": 167,
   "id": "9c174376-07b2-43a6-b6a0-e28f5782f0b5",
   "metadata": {},
   "outputs": [
    {
     "name": "stdout",
     "output_type": "stream",
     "text": [
      "Nivel Superior\n"
     ]
    }
   ],
   "source": [
    "cali(1000000)"
   ]
  },
  {
   "cell_type": "code",
   "execution_count": 169,
   "id": "839e4bab-9c80-404b-8b6a-f5d7449e9f79",
   "metadata": {},
   "outputs": [
    {
     "name": "stdout",
     "output_type": "stream",
     "text": [
      "Nivel Bajo\n"
     ]
    }
   ],
   "source": [
    "cali(59)"
   ]
  },
  {
   "cell_type": "code",
   "execution_count": 171,
   "id": "98a02ecc-fa0c-4a01-9528-ad8d67d357ff",
   "metadata": {},
   "outputs": [
    {
     "name": "stdout",
     "output_type": "stream",
     "text": [
      "Nivel Bajo\n"
     ]
    }
   ],
   "source": [
    "cali(9)"
   ]
  },
  {
   "cell_type": "code",
   "execution_count": 175,
   "id": "ff6c9722-6b1e-4c3e-8d98-f5c596534e9d",
   "metadata": {},
   "outputs": [
    {
     "ename": "TypeError",
     "evalue": "'>=' not supported between instances of 'str' and 'int'",
     "output_type": "error",
     "traceback": [
      "\u001b[1;31m---------------------------------------------------------------------------\u001b[0m",
      "\u001b[1;31mTypeError\u001b[0m                                 Traceback (most recent call last)",
      "Cell \u001b[1;32mIn[175], line 1\u001b[0m\n\u001b[1;32m----> 1\u001b[0m cali(\u001b[38;5;124m\"\u001b[39m\u001b[38;5;124madkfa\u001b[39m\u001b[38;5;124m\"\u001b[39m)\n",
      "Cell \u001b[1;32mIn[163], line 2\u001b[0m, in \u001b[0;36mcali\u001b[1;34m(puntaje)\u001b[0m\n\u001b[0;32m      1\u001b[0m \u001b[38;5;28;01mdef\u001b[39;00m \u001b[38;5;21mcali\u001b[39m(puntaje):\n\u001b[1;32m----> 2\u001b[0m     \u001b[38;5;28;01mif\u001b[39;00m puntaje \u001b[38;5;241m>\u001b[39m\u001b[38;5;241m=\u001b[39m \u001b[38;5;241m95\u001b[39m:\n\u001b[0;32m      3\u001b[0m         \u001b[38;5;28mprint\u001b[39m(\u001b[38;5;124m\"\u001b[39m\u001b[38;5;124mNivel Superior\u001b[39m\u001b[38;5;124m\"\u001b[39m)\n\u001b[0;32m      4\u001b[0m     \u001b[38;5;28;01melif\u001b[39;00m \u001b[38;5;241m80\u001b[39m \u001b[38;5;241m<\u001b[39m\u001b[38;5;241m=\u001b[39m puntaje \u001b[38;5;241m<\u001b[39m \u001b[38;5;241m95\u001b[39m:\n",
      "\u001b[1;31mTypeError\u001b[0m: '>=' not supported between instances of 'str' and 'int'"
     ]
    }
   ],
   "source": [
    "cali(\"adkfa\")"
   ]
  },
  {
   "cell_type": "code",
   "execution_count": 177,
   "id": "ea10d01f-e572-4678-bff8-56ae74eefcfd",
   "metadata": {},
   "outputs": [
    {
     "name": "stdout",
     "output_type": "stream",
     "text": [
      "Nivel Bajo\n"
     ]
    }
   ],
   "source": [
    "cali(True)"
   ]
  },
  {
   "cell_type": "code",
   "execution_count": 179,
   "id": "8d73f525-a3f8-4db6-b965-9a58fa523784",
   "metadata": {},
   "outputs": [
    {
     "name": "stdout",
     "output_type": "stream",
     "text": [
      "Nivel Bajo\n"
     ]
    }
   ],
   "source": [
    "cali(False)"
   ]
  },
  {
   "cell_type": "markdown",
   "id": "2401c691-2f79-470d-a2fb-bea207ed8e30",
   "metadata": {},
   "source": [
    "## Calculando el costo de una entrada"
   ]
  },
  {
   "cell_type": "markdown",
   "id": "42333cf0-73c9-4c04-b893-580b57796d75",
   "metadata": {},
   "source": [
    "### Requerimientos\n",
    "\n",
    "El programa debe satisfacer los siguientes requerimientos:\n",
    "\n",
    "1. Debe aceptar como entrada la edad del visitante, introducida por el usuario a través del teclado.\n",
    "2. Debe calcular la tarifa a pagar por el visitante, dependiendo de estos rangos de edad:\n",
    "   - 18 a 55 años: tarifa plana sin descuento, 10 dólares\n",
    "   - 56 a 70 años: descuento del 5% sobre la tarifa plana\n",
    "   - 71 años en adelante: descuento del 10% sobre la tarifa plana\n",
    "   - 5 a 17 años: descuento del 20% sobre la tarifa plana\n",
    "   - Niños menores de 5 años: descuento del 50% sobre la tarifa plana\n",
    "3. Al finalizar debe imprimir en pantalla un mensaje indicando la tarifa a pagar y el descuento aplicado. Por ejemplo: \"El costo de tu entrada es de 50 dólares (descuento aplicado: 50%)\""
   ]
  },
  {
   "cell_type": "code",
   "execution_count": 240,
   "id": "7a7f8cc7-85ae-4262-b47e-215b2e41a1b0",
   "metadata": {},
   "outputs": [
    {
     "name": "stdin",
     "output_type": "stream",
     "text": [
      "Introduzca su edad:  77\n"
     ]
    }
   ],
   "source": [
    "edad = float(input(\"Introduzca su edad: \"))"
   ]
  },
  {
   "cell_type": "code",
   "execution_count": 242,
   "id": "4fc72605-edd5-48e7-869c-0afd802a6e25",
   "metadata": {},
   "outputs": [],
   "source": [
    "tarifa_plana = 10\n",
    "# mensaje = \"El costo de tu entrada es de \" + precio + \" dólares (descuento aplicado: \"+ descuento +\"%)\""
   ]
  },
  {
   "cell_type": "code",
   "execution_count": 246,
   "id": "64eac2f4-8dff-44ef-8091-1ced7c20bb6d",
   "metadata": {},
   "outputs": [
    {
     "name": "stdout",
     "output_type": "stream",
     "text": [
      "El costo de tu entrada es de 9.0 dólares (descuento aplicado: 10%)\n"
     ]
    }
   ],
   "source": [
    "if edad < 5:\n",
    "    descuento = 50\n",
    "    tarifa = tarifa_plana - (tarifa_plana * descuento /100)\n",
    "    mensaje = \"El costo de tu entrada es de \" + str(tarifa) + \" dólares (descuento aplicado: \"+ str(descuento) +\"%)\"\n",
    "elif 5 <= edad <= 17:\n",
    "    descuento = 20\n",
    "    tarifa = tarifa_plana - (tarifa_plana * descuento /100)\n",
    "    mensaje = \"El costo de tu entrada es de \" + str(tarifa) + \" dólares (descuento aplicado: \"+ str(descuento) +\"%)\"\n",
    "elif 18 <= edad <= 55:\n",
    "    tarifa = tarifa_plana\n",
    "    mensaje = \"El costo de tu entrada es de \" + str(tarifa) + \" dólares, sin descuento aplicado.\"\n",
    "elif 55 <= edad <= 70:\n",
    "    descuento = 5\n",
    "    tarifa = tarifa_plana - (tarifa_plana * descuento /100)\n",
    "    mensaje = \"El costo de tu entrada es de \" + str(tarifa) + \" dólares (descuento aplicado: \"+ str(descuento) +\"%)\"\n",
    "elif edad >= 71:\n",
    "    descuento = 10\n",
    "    tarifa = tarifa_plana - (tarifa_plana * descuento /100)\n",
    "    mensaje = \"El costo de tu entrada es de \" + str(tarifa) + \" dólares (descuento aplicado: \"+ str(descuento) +\"%)\"\n",
    "print(mensaje)"
   ]
  },
  {
   "cell_type": "code",
   "execution_count": null,
   "id": "1b8d25cc-5a2e-4155-9b1b-e2b441b860c3",
   "metadata": {},
   "outputs": [],
   "source": []
  }
 ],
 "metadata": {
  "kernelspec": {
   "display_name": "Python [conda env:base] *",
   "language": "python",
   "name": "conda-base-py"
  },
  "language_info": {
   "codemirror_mode": {
    "name": "ipython",
    "version": 3
   },
   "file_extension": ".py",
   "mimetype": "text/x-python",
   "name": "python",
   "nbconvert_exporter": "python",
   "pygments_lexer": "ipython3",
   "version": "3.12.7"
  }
 },
 "nbformat": 4,
 "nbformat_minor": 5
}
