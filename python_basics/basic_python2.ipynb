{
 "cells": [
  {
   "cell_type": "markdown",
   "id": "515829fe-67e3-43f8-ae39-5ed844a6da41",
   "metadata": {},
   "source": [
    "# Algoritmos y sentencias de control"
   ]
  },
  {
   "cell_type": "markdown",
   "id": "0939e507-1be5-476d-a875-03d824876998",
   "metadata": {},
   "source": [
    "## Algoritmos y Pseudocodigos"
   ]
  },
  {
   "cell_type": "code",
   "execution_count": null,
   "id": "b19882a3-95ed-4bc6-ba57-58f3b583f6a7",
   "metadata": {},
   "outputs": [],
   "source": []
  },
  {
   "cell_type": "code",
   "execution_count": null,
   "id": "700fb213-dfca-4ac6-a95f-3b2ca29ab91c",
   "metadata": {},
   "outputs": [],
   "source": []
  },
  {
   "cell_type": "code",
   "execution_count": null,
   "id": "1ef171b2-9bfe-4e08-99ef-a9121f360451",
   "metadata": {},
   "outputs": [],
   "source": []
  },
  {
   "cell_type": "code",
   "execution_count": null,
   "id": "dc74ec87-5589-4043-82f7-831de89282e1",
   "metadata": {},
   "outputs": [],
   "source": []
  },
  {
   "cell_type": "markdown",
   "id": "ef67f7f5-b58a-4783-8a68-98dacbec4d68",
   "metadata": {},
   "source": [
    "## Sentencia While"
   ]
  },
  {
   "cell_type": "code",
   "execution_count": null,
   "id": "a8792760-a0f4-4e34-8791-7b4ce1ea9b6b",
   "metadata": {},
   "outputs": [],
   "source": []
  },
  {
   "cell_type": "code",
   "execution_count": null,
   "id": "9bde11b7-11f8-4bca-a8f6-1463780976e3",
   "metadata": {},
   "outputs": [],
   "source": []
  },
  {
   "cell_type": "code",
   "execution_count": null,
   "id": "21efd60b-1f5d-4e53-a139-b37893a24d0b",
   "metadata": {},
   "outputs": [],
   "source": []
  },
  {
   "cell_type": "code",
   "execution_count": null,
   "id": "b7c243d8-dfb2-4db8-934b-866f0861e56d",
   "metadata": {},
   "outputs": [],
   "source": []
  },
  {
   "cell_type": "code",
   "execution_count": null,
   "id": "5e06efd2-768f-49ad-95c4-46d15a9056b8",
   "metadata": {},
   "outputs": [],
   "source": []
  },
  {
   "cell_type": "markdown",
   "id": "e0651bda-a179-4823-8716-e70541cf167e",
   "metadata": {},
   "source": [
    "## Sentencia For"
   ]
  },
  {
   "cell_type": "code",
   "execution_count": null,
   "id": "276b4f86-2eae-4d25-b620-7d96cb292574",
   "metadata": {},
   "outputs": [],
   "source": []
  },
  {
   "cell_type": "code",
   "execution_count": null,
   "id": "d0d470d3-5422-4e90-8c66-3d84e6b22523",
   "metadata": {},
   "outputs": [],
   "source": []
  },
  {
   "cell_type": "code",
   "execution_count": null,
   "id": "843418f4-0201-4e1f-9229-5c6ea050328f",
   "metadata": {},
   "outputs": [],
   "source": []
  },
  {
   "cell_type": "code",
   "execution_count": null,
   "id": "6de04715-1822-4b02-a6b7-0d74e201ea7b",
   "metadata": {},
   "outputs": [],
   "source": []
  },
  {
   "cell_type": "code",
   "execution_count": null,
   "id": "de8c3b94-eb56-46d3-800d-8bf9030b4e29",
   "metadata": {},
   "outputs": [],
   "source": []
  },
  {
   "cell_type": "markdown",
   "id": "ab7cb813-c10c-420c-8d3e-de18d45ca332",
   "metadata": {},
   "source": [
    "## Sentencia Break y Continue"
   ]
  },
  {
   "cell_type": "code",
   "execution_count": null,
   "id": "36cd57ea-0368-4318-8bd4-61f077e92518",
   "metadata": {},
   "outputs": [],
   "source": []
  },
  {
   "cell_type": "code",
   "execution_count": null,
   "id": "bce72475-2c7d-455e-9786-3c09008885d2",
   "metadata": {},
   "outputs": [],
   "source": []
  },
  {
   "cell_type": "code",
   "execution_count": null,
   "id": "d3f7d9ad-13c8-4679-babb-03647e17f58f",
   "metadata": {},
   "outputs": [],
   "source": []
  },
  {
   "cell_type": "code",
   "execution_count": null,
   "id": "caa04b73-ecd9-4d6e-a878-6e489b1238b4",
   "metadata": {},
   "outputs": [],
   "source": []
  },
  {
   "cell_type": "code",
   "execution_count": null,
   "id": "4e87df85-ae03-4fd7-b4e5-25ba7f2b5ff2",
   "metadata": {},
   "outputs": [],
   "source": []
  },
  {
   "cell_type": "markdown",
   "id": "0bfabe4e-528a-479d-8510-c1dc22c5c513",
   "metadata": {},
   "source": [
    "## Practica: Invirtiendo en la bolsa"
   ]
  },
  {
   "cell_type": "code",
   "execution_count": null,
   "id": "37a8f1b9-fad5-4ecf-8f45-d3259b73f3d0",
   "metadata": {},
   "outputs": [],
   "source": []
  },
  {
   "cell_type": "code",
   "execution_count": null,
   "id": "d1e0b47f-4022-4f82-81c8-2e1f56522f84",
   "metadata": {},
   "outputs": [],
   "source": []
  },
  {
   "cell_type": "code",
   "execution_count": null,
   "id": "b3b040d2-d2f3-4d2a-a14c-6b12c1bce45b",
   "metadata": {},
   "outputs": [],
   "source": []
  },
  {
   "cell_type": "code",
   "execution_count": null,
   "id": "d2705c8e-8b9b-4ce5-85f0-6c4a06f44149",
   "metadata": {},
   "outputs": [],
   "source": []
  },
  {
   "cell_type": "code",
   "execution_count": null,
   "id": "6055b7dc-84b4-4801-b11a-82f2a5b3ad6e",
   "metadata": {},
   "outputs": [],
   "source": []
  },
  {
   "cell_type": "code",
   "execution_count": null,
   "id": "672bd30f-c40c-4d1b-9ad3-a4d09ff2775d",
   "metadata": {},
   "outputs": [],
   "source": []
  },
  {
   "cell_type": "markdown",
   "id": "9bb87afd-a1e4-4115-ad44-c4adda2d27c5",
   "metadata": {},
   "source": [
    "# Funciones"
   ]
  },
  {
   "cell_type": "markdown",
   "id": "17f648cc-e9d7-41bf-b85e-49f6e8a7395e",
   "metadata": {},
   "source": [
    "## Que son y para que sirven?"
   ]
  },
  {
   "cell_type": "code",
   "execution_count": null,
   "id": "fadfa2cd-1ed7-4d6b-bd26-9e5af67d6c4a",
   "metadata": {},
   "outputs": [],
   "source": []
  },
  {
   "cell_type": "code",
   "execution_count": null,
   "id": "4f0ec9f4-6e5e-4168-bb0b-92acd2793f71",
   "metadata": {},
   "outputs": [],
   "source": []
  },
  {
   "cell_type": "code",
   "execution_count": null,
   "id": "506019ba-e9ce-4bb4-b251-e1c17fbcc380",
   "metadata": {},
   "outputs": [],
   "source": []
  },
  {
   "cell_type": "code",
   "execution_count": null,
   "id": "f68c18ae-6554-48fd-b6fe-ffbb6422dbc9",
   "metadata": {},
   "outputs": [],
   "source": []
  },
  {
   "cell_type": "code",
   "execution_count": null,
   "id": "27ca41e3-ea64-4241-8e36-b8000568633f",
   "metadata": {},
   "outputs": [],
   "source": []
  },
  {
   "cell_type": "code",
   "execution_count": null,
   "id": "48211ee3-38f8-4e47-94a3-fc96674e976b",
   "metadata": {},
   "outputs": [],
   "source": []
  },
  {
   "cell_type": "markdown",
   "id": "3db04fd5-9f1a-45c6-8da8-6d2b7b25539b",
   "metadata": {},
   "source": [
    "## Crear una funcion"
   ]
  },
  {
   "cell_type": "code",
   "execution_count": null,
   "id": "56f6e8ea-a891-4fc4-8b2e-5297f499622c",
   "metadata": {},
   "outputs": [],
   "source": []
  },
  {
   "cell_type": "code",
   "execution_count": null,
   "id": "ed23696c-923b-419a-8cd0-d0446a3006c0",
   "metadata": {},
   "outputs": [],
   "source": []
  },
  {
   "cell_type": "code",
   "execution_count": null,
   "id": "f8640f5e-96f2-452e-8416-9b598231d447",
   "metadata": {},
   "outputs": [],
   "source": []
  },
  {
   "cell_type": "code",
   "execution_count": null,
   "id": "6717e614-bfdc-4fd1-beb3-31f7a2b8c1b4",
   "metadata": {},
   "outputs": [],
   "source": []
  },
  {
   "cell_type": "code",
   "execution_count": null,
   "id": "0f41dc17-b46d-4dc4-959a-3fd16d1fdfff",
   "metadata": {},
   "outputs": [],
   "source": []
  },
  {
   "cell_type": "code",
   "execution_count": null,
   "id": "5d660694-b191-4db0-9696-50893967a286",
   "metadata": {},
   "outputs": [],
   "source": []
  },
  {
   "cell_type": "markdown",
   "id": "e1716474-b444-4be1-b758-b6c7d817e637",
   "metadata": {},
   "source": [
    "## Argumentos Posicionales, por palabra clave y por defecto"
   ]
  },
  {
   "cell_type": "code",
   "execution_count": null,
   "id": "e9800709-aa37-45f4-8db4-aaf65c3ff1b5",
   "metadata": {},
   "outputs": [],
   "source": []
  },
  {
   "cell_type": "code",
   "execution_count": null,
   "id": "cab53640-cfe5-4e5c-818e-2ada4c70b93e",
   "metadata": {},
   "outputs": [],
   "source": []
  },
  {
   "cell_type": "code",
   "execution_count": null,
   "id": "da884f98-cfc7-4ccd-af07-914bdc7f23d6",
   "metadata": {},
   "outputs": [],
   "source": []
  },
  {
   "cell_type": "code",
   "execution_count": null,
   "id": "bfb02ecc-891b-4a79-ba20-7b91b8810a22",
   "metadata": {},
   "outputs": [],
   "source": []
  },
  {
   "cell_type": "code",
   "execution_count": null,
   "id": "02b1c20c-733d-400e-9550-1a52f6cd0453",
   "metadata": {},
   "outputs": [],
   "source": []
  },
  {
   "cell_type": "markdown",
   "id": "72ddaeea-4049-4e32-921c-4fc87da972ff",
   "metadata": {},
   "source": [
    "## Funciones con un numero arbitrario de argumentos y multiples valores de retorno"
   ]
  },
  {
   "cell_type": "code",
   "execution_count": null,
   "id": "628c7404-1d4e-438f-8d1e-4740993c095f",
   "metadata": {},
   "outputs": [],
   "source": []
  },
  {
   "cell_type": "code",
   "execution_count": null,
   "id": "b6891118-a826-4330-8927-7c932a0a3abd",
   "metadata": {},
   "outputs": [],
   "source": []
  },
  {
   "cell_type": "code",
   "execution_count": null,
   "id": "63b1e778-115f-41cc-97d4-6c2fceae72ba",
   "metadata": {},
   "outputs": [],
   "source": []
  },
  {
   "cell_type": "code",
   "execution_count": null,
   "id": "ecc4d5e6-ffb1-47cf-a5f6-0a39210a5348",
   "metadata": {},
   "outputs": [],
   "source": []
  },
  {
   "cell_type": "code",
   "execution_count": null,
   "id": "d0c88941-b727-480f-bad9-10b2412542e4",
   "metadata": {},
   "outputs": [],
   "source": []
  },
  {
   "cell_type": "markdown",
   "id": "8991bea7-4eaa-4520-9920-02590510d633",
   "metadata": {},
   "source": [
    "## Reglas de alcance"
   ]
  },
  {
   "cell_type": "code",
   "execution_count": null,
   "id": "da6d518f-750a-4042-9a5f-c51dc5e6bfe6",
   "metadata": {},
   "outputs": [],
   "source": []
  },
  {
   "cell_type": "code",
   "execution_count": null,
   "id": "1dacef50-f19d-47b9-8bc7-e4e55a20c883",
   "metadata": {},
   "outputs": [],
   "source": []
  },
  {
   "cell_type": "code",
   "execution_count": null,
   "id": "76cb6884-ca36-40fa-a728-1aac58a68149",
   "metadata": {},
   "outputs": [],
   "source": []
  },
  {
   "cell_type": "code",
   "execution_count": null,
   "id": "b5b98850-df3c-4200-a09c-6a3761a00e30",
   "metadata": {},
   "outputs": [],
   "source": []
  },
  {
   "cell_type": "markdown",
   "id": "aa7a9c1f-403d-4b66-9bdf-33f82994319a",
   "metadata": {},
   "source": [
    "## Practica: Bop-it"
   ]
  },
  {
   "cell_type": "code",
   "execution_count": null,
   "id": "f2662b93-bfae-4e33-94e4-ced17984d544",
   "metadata": {},
   "outputs": [],
   "source": []
  },
  {
   "cell_type": "code",
   "execution_count": null,
   "id": "93975177-c05c-4362-baa5-974470d89174",
   "metadata": {},
   "outputs": [],
   "source": []
  },
  {
   "cell_type": "code",
   "execution_count": null,
   "id": "01ac5d96-83ed-4e9b-9dc8-d5605387fdb9",
   "metadata": {},
   "outputs": [],
   "source": []
  },
  {
   "cell_type": "code",
   "execution_count": null,
   "id": "06f280e0-1575-4cff-b02f-8aa99abccf70",
   "metadata": {},
   "outputs": [],
   "source": []
  },
  {
   "cell_type": "markdown",
   "id": "76c37d29-efb7-4484-a5e0-a36d0cd0505a",
   "metadata": {},
   "source": []
  }
 ],
 "metadata": {
  "kernelspec": {
   "display_name": "Python [conda env:base] *",
   "language": "python",
   "name": "conda-base-py"
  },
  "language_info": {
   "codemirror_mode": {
    "name": "ipython",
    "version": 3
   },
   "file_extension": ".py",
   "mimetype": "text/x-python",
   "name": "python",
   "nbconvert_exporter": "python",
   "pygments_lexer": "ipython3",
   "version": "3.12.7"
  }
 },
 "nbformat": 4,
 "nbformat_minor": 5
}
